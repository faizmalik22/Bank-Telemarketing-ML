{
 "cells": [
  {
   "cell_type": "markdown",
   "metadata": {},
   "source": [
    "# MODEL BUILDING"
   ]
  },
  {
   "cell_type": "code",
   "execution_count": 1,
   "metadata": {},
   "outputs": [],
   "source": [
    "import pandas as pd\n",
    "import numpy as np\n",
    "from sklearn.model_selection import train_test_split\n",
    "from sklearn.preprocessing import OneHotEncoder, OrdinalEncoder, LabelEncoder, StandardScaler\n",
    "from sklearn.compose import ColumnTransformer\n",
    "from sklearn.pipeline import Pipeline\n",
    "from sklearn.impute import SimpleImputer\n",
    "from sklearn.linear_model import Perceptron\n",
    "from sklearn.linear_model import SGDClassifier, LogisticRegression, LogisticRegressionCV\n",
    "from sklearn.neighbors import KNeighborsClassifier\n",
    "from sklearn.svm import SVC\n",
    "from sklearn.tree import DecisionTreeClassifier\n",
    "from sklearn.ensemble import RandomForestClassifier\n",
    "from sklearn.model_selection import StratifiedShuffleSplit, GridSearchCV, RandomizedSearchCV\n",
    "from sklearn.metrics import confusion_matrix, classification_report, f1_score"
   ]
  },
  {
   "cell_type": "code",
   "execution_count": 2,
   "metadata": {},
   "outputs": [],
   "source": [
    "# Load data\n",
    "train_data = pd.read_csv(\"train.csv\")\n",
    "test_data = pd.read_csv(\"test.csv\")"
   ]
  },
  {
   "cell_type": "markdown",
   "metadata": {},
   "source": [
    "# Preprocessing"
   ]
  },
  {
   "cell_type": "code",
   "execution_count": 3,
   "metadata": {},
   "outputs": [],
   "source": [
    "# Separate features and label\n",
    "X = train_data.drop(columns=['target'])\n",
    "y = train_data['target']\n",
    "\n",
    "# Prepare Features\n",
    "def prepare_features(df):\n",
    "    df['pdays'] = df['pdays'].replace(-1, np.nan)\n",
    "\n",
    "    df['date'] = pd.to_datetime(df['last contact date'])\n",
    "    df['year'] = df['date'].dt.year\n",
    "    df['month'] = df['date'].dt.month\n",
    "    df['day'] = df['date'].dt.day\n",
    "    df['day of week'] = df['date'].dt.dayofweek                                             \n",
    "    df['is weekend'] = df['day of week'].apply(lambda x: 1 if x >= 5 else 0)\n",
    "    df = df.drop(columns=['last contact date', 'date'])\n",
    "    return df\n",
    "\n",
    "X = prepare_features(X)\n",
    "\n",
    "# train_test_split\n",
    "X_train, X_test, y_train, y_test = train_test_split(X, y, test_size=0.2, stratify=y, random_state=42)\n"
   ]
  },
  {
   "cell_type": "code",
   "execution_count": 4,
   "metadata": {},
   "outputs": [],
   "source": [
    "# for transforming features\n",
    "numeric_columns = ['age', 'balance', 'duration', 'campaign', 'pdays', 'previous']\n",
    "categorical_columns = ['job', 'marital', 'default', 'housing', 'loan', 'contact', 'poutcome', 'year', 'month', 'day', 'day of week', 'is weekend']\n",
    "ordinal_columns = ['education']\n",
    "\n",
    "numeric_transformer = Pipeline(steps=[\n",
    "    ('imputer', SimpleImputer(strategy='mean')), \n",
    "    ('scaler', StandardScaler()),\n",
    "])\n",
    "\n",
    "categorical_transformer = Pipeline(steps=[\n",
    "    ('imputer', SimpleImputer(strategy='most_frequent')), \n",
    "    ('onehot', OneHotEncoder(handle_unknown='ignore'))  \n",
    "])\n",
    "\n",
    "ordinal_transformer = Pipeline(steps=[\n",
    "    ('imputer', SimpleImputer(strategy='most_frequent')),\n",
    "    ('ordinal', OrdinalEncoder(categories=[['primary', 'secondary', 'tertiary']])) \n",
    "])\n",
    "\n",
    "preprocessor = ColumnTransformer(\n",
    "    transformers=[\n",
    "        ('num', numeric_transformer, numeric_columns),\n",
    "        ('cat', categorical_transformer, categorical_columns),\n",
    "        ('ord', ordinal_transformer, ordinal_columns)\n",
    "    ])"
   ]
  },
  {
   "cell_type": "code",
   "execution_count": 5,
   "metadata": {},
   "outputs": [],
   "source": [
    "# for transforming label\n",
    "label_enc = LabelEncoder()\n",
    "y_train = label_enc.fit_transform(y_train)\n",
    "y_test = label_enc.fit_transform(y_test)"
   ]
  },
  {
   "cell_type": "markdown",
   "metadata": {},
   "source": [
    "# Models"
   ]
  },
  {
   "cell_type": "code",
   "execution_count": 6,
   "metadata": {},
   "outputs": [],
   "source": [
    "# # Perceptron\n",
    "# pipe = Pipeline(steps=[\n",
    "#     ('preprocessor', preprocessor),\n",
    "#     ('classifier', Perceptron(alpha=0.01, max_iter=2000, tol=0.0001, eta0=0.001, class_weight='balanced'))\n",
    "# ])\n",
    "\n",
    "# # fi_macro_average, 0.6923850345260515"
   ]
  },
  {
   "cell_type": "code",
   "execution_count": 7,
   "metadata": {},
   "outputs": [],
   "source": [
    "# # LogisticRegression\n",
    "# pipe = Pipeline(steps=[\n",
    "#     ('preprocessor', preprocessor),\n",
    "#     ('classifier', LogisticRegression(class_weight='balanced'))\n",
    "# ])\n",
    "\n",
    "# # fi_macro_average, 0.7297559870521964"
   ]
  },
  {
   "cell_type": "code",
   "execution_count": 8,
   "metadata": {},
   "outputs": [],
   "source": [
    "# # KNeighborsClassifier\n",
    "# pipe = Pipeline(steps=[\n",
    "#     ('preprocessor', preprocessor),\n",
    "#     ('classifier', KNeighborsClassifier(n_neighbors=3))\n",
    "# ])\n",
    "\n",
    "# # fi_macro_average, 0.6545377907966893"
   ]
  },
  {
   "cell_type": "code",
   "execution_count": 9,
   "metadata": {},
   "outputs": [],
   "source": [
    "# # SVC\n",
    "# pipe = Pipeline(steps=[\n",
    "#     ('preprocessor', preprocessor),\n",
    "#     (\"classifier\", SVC(class_weight='balanced', kernel = 'linear'))\n",
    "# ])\n",
    "\n",
    "# # fi_macro_average, 0.7502859645079138"
   ]
  },
  {
   "cell_type": "code",
   "execution_count": 10,
   "metadata": {},
   "outputs": [],
   "source": [
    "# # DecisionTreeClassifier\n",
    "# pipe = Pipeline(steps=[\n",
    "#     ('preprocessor', preprocessor),\n",
    "#     (\"classifier\", DecisionTreeClassifier(class_weight='balanced', max_depth=5, min_samples_leaf=10, random_state=42))\n",
    "# ])\n",
    "\n",
    "# # fi_macro_average, 0.7336741752248984"
   ]
  },
  {
   "cell_type": "code",
   "execution_count": 11,
   "metadata": {},
   "outputs": [],
   "source": [
    "# RandomForestClassifier\n",
    "pipe = Pipeline(steps=[\n",
    "    ('preprocessor', preprocessor),\n",
    "    (\"classifier\", RandomForestClassifier(n_estimators=300, max_depth=20, min_samples_split=10, min_samples_leaf=2, class_weight=\"balanced\", random_state=42))\n",
    "])\n",
    "\n",
    "# fi_macro_average, 0.7709318845337377"
   ]
  },
  {
   "cell_type": "code",
   "execution_count": 12,
   "metadata": {},
   "outputs": [],
   "source": [
    "# # AdaBoostClassifier\n",
    "# dtc = DecisionTreeClassifier(class_weight='balanced', max_depth=5, min_samples_leaf=10, random_state=42)\n",
    "# pipe = Pipeline(steps=[\n",
    "#     ('preprocessor', preprocessor),\n",
    "#     (\"adaboost\", AdaBoostClassifier(estimator=dtc, n_estimators=50, learning_rate=0.1, algorithm='SAMME.R', random_state=42))\n",
    "# ])\n",
    "\n",
    "# # fi_macro_average, 0.7448168489599839"
   ]
  },
  {
   "cell_type": "code",
   "execution_count": null,
   "metadata": {},
   "outputs": [],
   "source": []
  },
  {
   "cell_type": "code",
   "execution_count": 13,
   "metadata": {},
   "outputs": [
    {
     "data": {
      "text/plain": [
       "0.7709318845337377"
      ]
     },
     "execution_count": 13,
     "metadata": {},
     "output_type": "execute_result"
    }
   ],
   "source": [
    "# fit/predict\n",
    "model = pipe.fit(X_train, y_train)\n",
    "y_pred = model.predict(X_test)\n",
    "\n",
    "# f1_score\n",
    "f1_score(y_test, y_pred, average='macro')"
   ]
  },
  {
   "cell_type": "code",
   "execution_count": null,
   "metadata": {},
   "outputs": [],
   "source": []
  },
  {
   "cell_type": "markdown",
   "metadata": {},
   "source": [
    "### Other Metrics"
   ]
  },
  {
   "cell_type": "code",
   "execution_count": 14,
   "metadata": {},
   "outputs": [
    {
     "data": {
      "text/plain": [
       "array([[5793,  884],\n",
       "       [ 225,  941]])"
      ]
     },
     "execution_count": 14,
     "metadata": {},
     "output_type": "execute_result"
    }
   ],
   "source": [
    "# Confusion Matrix\n",
    "confusion_matrix(y_test, y_pred)"
   ]
  },
  {
   "cell_type": "code",
   "execution_count": 15,
   "metadata": {},
   "outputs": [
    {
     "name": "stdout",
     "output_type": "stream",
     "text": [
      "              precision    recall  f1-score   support\n",
      "\n",
      "           0       0.96      0.87      0.91      6677\n",
      "           1       0.52      0.81      0.63      1166\n",
      "\n",
      "    accuracy                           0.86      7843\n",
      "   macro avg       0.74      0.84      0.77      7843\n",
      "weighted avg       0.90      0.86      0.87      7843\n",
      "\n"
     ]
    }
   ],
   "source": [
    "# Classification Report\n",
    "print(classification_report(y_test, y_pred))"
   ]
  },
  {
   "cell_type": "code",
   "execution_count": null,
   "metadata": {},
   "outputs": [],
   "source": []
  },
  {
   "cell_type": "markdown",
   "metadata": {},
   "source": [
    "# HPT"
   ]
  },
  {
   "cell_type": "code",
   "execution_count": null,
   "metadata": {},
   "outputs": [],
   "source": [
    "# param_grid_perceptron = {\n",
    "#     'classifier__alpha': [0.0001, 0.001, 0.01],\n",
    "#     'classifier__eta0': [0.001, 0.01, 0.1],\n",
    "#     'classifier__max_iter': [1000, 1500, 2000],\n",
    "#     'classifier__tol': [1e-3, 1e-4],\n",
    "#     'classifier__class_weight': ['balanced', None]\n",
    "# }\n",
    "\n",
    "# param_grid_lr = {\n",
    "#     'classifier__C': [0.1, 1, 10],\n",
    "#     'classifier__solver': ['liblinear', 'saga'],\n",
    "#     'classifier__max_iter': [100, 200],\n",
    "#     'classifier__class_weight': ['balanced', None]\n",
    "# }\n",
    "\n",
    "# param_grid_knn = {\n",
    "#     'classifier__n_neighbors': [3, 5, 7, 9, 11],\n",
    "#     'classifier__weights': ['uniform', 'distance'],\n",
    "#     'classifier__metric': ['euclidean', 'manhattan']\n",
    "# }\n",
    "\n",
    "# param_grid_svc = {\n",
    "#     'classifier__C': [0.1, 1, 10],\n",
    "#     'classifier__kernel': ['linear', 'rbf'],\n",
    "#     'classifier__gamma': ['scale', 'auto'],\n",
    "#     'classifier__class_weight': ['balanced', None]\n",
    "# }\n",
    "\n",
    "# param_grid_dt = {\n",
    "#     'classifier__max_depth': [3, 5, 7],\n",
    "#     'classifier__min_samples_split': [1, 2, 5],\n",
    "#     'classifier__min_samples_leaf': [1, 2, 4, 8, 10, 12],\n",
    "#     'classifier__class_weight': ['balanced', None]\n",
    "# }\n",
    "\n",
    "# param_grid_rf = {\n",
    "#     \"classifier__n_estimators\": [100, 200, 300, 400, 500],\n",
    "#     \"classifier__max_depth\": [5, 10, 20, 30, None],\n",
    "#     \"classifier__min_samples_split\": [2, 5, 10],\n",
    "#     \"classifier__min_samples_leaf\": [1, 2, 5],\n",
    "#     \"classifier__bootstrap\": [True, False],\n",
    "#     'classifier__class_weight': ['balanced', None]\n",
    "\n",
    "# }"
   ]
  },
  {
   "cell_type": "code",
   "execution_count": null,
   "metadata": {},
   "outputs": [],
   "source": [
    "# cv = StratifiedShuffleSplit(n_splits=3, test_size=0.2, random_state=42)"
   ]
  },
  {
   "cell_type": "code",
   "execution_count": null,
   "metadata": {},
   "outputs": [],
   "source": [
    "# grid_search = GridSearchCV(\n",
    "#     pipe, \n",
    "#     param_grid=param_grid_svc, \n",
    "#     scoring='f1', \n",
    "#     n_jobs=-1, \n",
    "#     cv=5\n",
    "# )\n",
    "\n",
    "# grid_search.fit(X_train, y_train)\n",
    "\n",
    "# y_pred = grid_search.predict(X_test)\n",
    "# f1_score(y_test, y_pred, average='macro')"
   ]
  },
  {
   "cell_type": "code",
   "execution_count": null,
   "metadata": {},
   "outputs": [],
   "source": [
    "# random_search = RandomizedSearchCV(\n",
    "#     pipe,                 \n",
    "#     param_distributions=param_grid_dt,           \n",
    "#     scoring='f1',        \n",
    "#     cv=5,                  \n",
    "#     n_jobs=-1,            \n",
    "#     random_state=42 \n",
    "# )\n",
    "\n",
    "# random_search.fit(X_train, y_train)\n",
    "\n",
    "# y_pred = random_search.predict(X_test)\n",
    "# f1_score(y_test, y_pred, average='macro')"
   ]
  },
  {
   "cell_type": "code",
   "execution_count": null,
   "metadata": {},
   "outputs": [],
   "source": [
    "# grid_search.best_params_"
   ]
  },
  {
   "cell_type": "code",
   "execution_count": null,
   "metadata": {},
   "outputs": [],
   "source": [
    "# best_model = grid_search.best_estimator_"
   ]
  },
  {
   "cell_type": "code",
   "execution_count": null,
   "metadata": {},
   "outputs": [],
   "source": []
  },
  {
   "cell_type": "markdown",
   "metadata": {},
   "source": [
    "# Submission"
   ]
  },
  {
   "cell_type": "code",
   "execution_count": 16,
   "metadata": {},
   "outputs": [],
   "source": [
    "# Load and Prepare Features from their test data\n",
    "X_test = prepare_features(test_data)\n",
    "\n",
    "# Predict on their test set\n",
    "y_test_pred = model.predict(X_test)\n",
    "\n",
    "# map predictions\n",
    "# y_pred_mapped = np.where(y_pred == 1, 'yes', 'no')\n",
    "y_pred_mapped = label_enc.inverse_transform(y_test_pred)\n",
    "\n",
    "# Create the submission file\n",
    "submission = pd.DataFrame({\"id\": range(0,X_test.shape[0]), \"target\": y_pred_mapped})\n",
    "\n",
    "# Save the submission file\n",
    "submission.to_csv('submission.csv', index=False)"
   ]
  },
  {
   "cell_type": "code",
   "execution_count": null,
   "metadata": {},
   "outputs": [],
   "source": []
  }
 ],
 "metadata": {
  "kaggle": {
   "accelerator": "none",
   "dataSources": [
    {
     "databundleVersionId": 9578279,
     "sourceId": 85062,
     "sourceType": "competition"
    }
   ],
   "dockerImageVersionId": 30786,
   "isGpuEnabled": false,
   "isInternetEnabled": true,
   "language": "python",
   "sourceType": "notebook"
  },
  "kernelspec": {
   "display_name": "Python 3 (ipykernel)",
   "language": "python",
   "name": "python3"
  },
  "language_info": {
   "codemirror_mode": {
    "name": "ipython",
    "version": 3
   },
   "file_extension": ".py",
   "mimetype": "text/x-python",
   "name": "python",
   "nbconvert_exporter": "python",
   "pygments_lexer": "ipython3",
   "version": "3.11.5"
  }
 },
 "nbformat": 4,
 "nbformat_minor": 4
}
